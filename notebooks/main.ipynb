{
 "cells": [
  {
   "cell_type": "code",
   "execution_count": 141,
   "id": "e08966c9",
   "metadata": {},
   "outputs": [],
   "source": [
    "import requests\n",
    "import pandas as pd"
   ]
  },
  {
   "cell_type": "code",
   "execution_count": 142,
   "id": "a24e2fe0",
   "metadata": {},
   "outputs": [],
   "source": [
    "url = \"https://api.frankfurter.app/latest?from=EUR\""
   ]
  },
  {
   "cell_type": "code",
   "execution_count": 143,
   "id": "f6a9e5a1",
   "metadata": {},
   "outputs": [],
   "source": [
    "response = requests.get(url)\n",
    "data = response.json()"
   ]
  },
  {
   "cell_type": "code",
   "execution_count": 144,
   "id": "47aa3aca",
   "metadata": {},
   "outputs": [
    {
     "data": {
      "text/plain": [
       "{'amount': 1.0,\n",
       " 'base': 'EUR',\n",
       " 'date': '2025-06-13',\n",
       " 'rates': {'AUD': 1.7777,\n",
       "  'BGN': 1.9558,\n",
       "  'BRL': 6.4007,\n",
       "  'CAD': 1.569,\n",
       "  'CHF': 0.9359,\n",
       "  'CNY': 8.2682,\n",
       "  'CZK': 24.831,\n",
       "  'DKK': 7.4586,\n",
       "  'GBP': 0.8505,\n",
       "  'HKD': 9.0362,\n",
       "  'HUF': 403.43,\n",
       "  'IDR': 18784,\n",
       "  'ILS': 4.1422,\n",
       "  'INR': 99.11,\n",
       "  'ISK': 144.2,\n",
       "  'JPY': 165.94,\n",
       "  'KRW': 1577.42,\n",
       "  'MXN': 21.881,\n",
       "  'MYR': 4.8874,\n",
       "  'NOK': 11.4435,\n",
       "  'NZD': 1.9167,\n",
       "  'PHP': 64.706,\n",
       "  'PLN': 4.2745,\n",
       "  'RON': 5.033,\n",
       "  'SEK': 10.9635,\n",
       "  'SGD': 1.4777,\n",
       "  'THB': 37.351,\n",
       "  'TRY': 45.397,\n",
       "  'USD': 1.1512,\n",
       "  'ZAR': 20.736}}"
      ]
     },
     "execution_count": 144,
     "metadata": {},
     "output_type": "execute_result"
    }
   ],
   "source": [
    "data"
   ]
  },
  {
   "cell_type": "code",
   "execution_count": 145,
   "id": "c0935e70",
   "metadata": {},
   "outputs": [],
   "source": [
    "df_rates = pd.DataFrame(data[\"rates\"].items(), columns=[\"target_currency\", \"rate\"])"
   ]
  },
  {
   "cell_type": "code",
   "execution_count": 146,
   "id": "ca520c6f",
   "metadata": {},
   "outputs": [],
   "source": [
    "df_rates[\"amount\"] = data.get(\"amount\")\n",
    "df_rates[\"base_currency\"] = data.get(\"base\")\n",
    "df_rates[\"date\"] = data.get(\"date\")"
   ]
  },
  {
   "cell_type": "code",
   "execution_count": 147,
   "id": "ea2151e1",
   "metadata": {},
   "outputs": [],
   "source": [
    "df_final = df_rates[[\"amount\", \"base_currency\", \"date\", \"target_currency\", \"rate\"]]"
   ]
  },
  {
   "cell_type": "code",
   "execution_count": 148,
   "id": "a47187c3",
   "metadata": {},
   "outputs": [],
   "source": [
    "df_final = df_final.dropna(subset=[\"amount\", \"base_currency\", \"date\", \"target_currency\", \"rate\"])"
   ]
  },
  {
   "cell_type": "code",
   "execution_count": 149,
   "id": "d5887eff",
   "metadata": {},
   "outputs": [],
   "source": [
    "from sqlalchemy import create_engine"
   ]
  },
  {
   "cell_type": "code",
   "execution_count": 150,
   "id": "b5cd70a8",
   "metadata": {},
   "outputs": [],
   "source": [
    "db_name = \"currency_etl\"\n",
    "db_user = \"postgres\"\n",
    "db_password = \"postgre\"\n",
    "db_host = \"localhost\"\n",
    "db_port = 5432"
   ]
  },
  {
   "cell_type": "code",
   "execution_count": 151,
   "id": "d508b01a",
   "metadata": {},
   "outputs": [],
   "source": [
    "db_url = \"postgresql://{0}:{1}@{2}:{3}/{4}\".format(\n",
    "    db_user, db_password, db_host, db_port, db_name)\n",
    "engine = create_engine(db_url)"
   ]
  },
  {
   "cell_type": "code",
   "execution_count": 152,
   "id": "1e41aee5",
   "metadata": {},
   "outputs": [],
   "source": [
    "from sqlalchemy import text"
   ]
  },
  {
   "cell_type": "code",
   "execution_count": 153,
   "id": "3f399235",
   "metadata": {},
   "outputs": [],
   "source": [
    "with engine.connect() as conn:\n",
    "    for index, row in df_final.iterrows():\n",
    "        query = text(\"\"\"\n",
    "        INSERT INTO exchange_rates (amount, base_currency, date, target_currency, rate)\n",
    "        VALUES (:amount, :base_currency, :date, :target_currency, :rate)\n",
    "        ON CONFLICT (base_currency, target_currency, date) DO NOTHING;\n",
    "        \"\"\")\n",
    "        conn.execute(query, row.to_dict())\n",
    "    conn.commit()"
   ]
  },
  {
   "cell_type": "code",
   "execution_count": 154,
   "id": "63b74d9a",
   "metadata": {},
   "outputs": [
    {
     "data": {
      "application/vnd.microsoft.datawrangler.viewer.v0+json": {
       "columns": [
        {
         "name": "index",
         "rawType": "int64",
         "type": "integer"
        },
        {
         "name": "amount",
         "rawType": "float64",
         "type": "float"
        },
        {
         "name": "base_currency",
         "rawType": "object",
         "type": "string"
        },
        {
         "name": "date",
         "rawType": "object",
         "type": "string"
        },
        {
         "name": "target_currency",
         "rawType": "object",
         "type": "string"
        },
        {
         "name": "rate",
         "rawType": "float64",
         "type": "float"
        }
       ],
       "ref": "0993cb69-38d3-4109-b6ea-24ad2ca34d2f",
       "rows": [
        [
         "0",
         "1.0",
         "EUR",
         "2025-06-13",
         "AUD",
         "1.7777"
        ],
        [
         "1",
         "1.0",
         "EUR",
         "2025-06-13",
         "BGN",
         "1.9558"
        ],
        [
         "2",
         "1.0",
         "EUR",
         "2025-06-13",
         "BRL",
         "6.4007"
        ],
        [
         "3",
         "1.0",
         "EUR",
         "2025-06-13",
         "CAD",
         "1.569"
        ],
        [
         "4",
         "1.0",
         "EUR",
         "2025-06-13",
         "CHF",
         "0.9359"
        ],
        [
         "5",
         "1.0",
         "EUR",
         "2025-06-13",
         "CNY",
         "8.2682"
        ],
        [
         "6",
         "1.0",
         "EUR",
         "2025-06-13",
         "CZK",
         "24.831"
        ],
        [
         "7",
         "1.0",
         "EUR",
         "2025-06-13",
         "DKK",
         "7.4586"
        ],
        [
         "8",
         "1.0",
         "EUR",
         "2025-06-13",
         "GBP",
         "0.8505"
        ],
        [
         "9",
         "1.0",
         "EUR",
         "2025-06-13",
         "HKD",
         "9.0362"
        ],
        [
         "10",
         "1.0",
         "EUR",
         "2025-06-13",
         "HUF",
         "403.43"
        ],
        [
         "11",
         "1.0",
         "EUR",
         "2025-06-13",
         "IDR",
         "18784.0"
        ],
        [
         "12",
         "1.0",
         "EUR",
         "2025-06-13",
         "ILS",
         "4.1422"
        ],
        [
         "13",
         "1.0",
         "EUR",
         "2025-06-13",
         "INR",
         "99.11"
        ],
        [
         "14",
         "1.0",
         "EUR",
         "2025-06-13",
         "ISK",
         "144.2"
        ],
        [
         "15",
         "1.0",
         "EUR",
         "2025-06-13",
         "JPY",
         "165.94"
        ],
        [
         "16",
         "1.0",
         "EUR",
         "2025-06-13",
         "KRW",
         "1577.42"
        ],
        [
         "17",
         "1.0",
         "EUR",
         "2025-06-13",
         "MXN",
         "21.881"
        ],
        [
         "18",
         "1.0",
         "EUR",
         "2025-06-13",
         "MYR",
         "4.8874"
        ],
        [
         "19",
         "1.0",
         "EUR",
         "2025-06-13",
         "NOK",
         "11.4435"
        ],
        [
         "20",
         "1.0",
         "EUR",
         "2025-06-13",
         "NZD",
         "1.9167"
        ],
        [
         "21",
         "1.0",
         "EUR",
         "2025-06-13",
         "PHP",
         "64.706"
        ],
        [
         "22",
         "1.0",
         "EUR",
         "2025-06-13",
         "PLN",
         "4.2745"
        ],
        [
         "23",
         "1.0",
         "EUR",
         "2025-06-13",
         "RON",
         "5.033"
        ],
        [
         "24",
         "1.0",
         "EUR",
         "2025-06-13",
         "SEK",
         "10.9635"
        ],
        [
         "25",
         "1.0",
         "EUR",
         "2025-06-13",
         "SGD",
         "1.4777"
        ],
        [
         "26",
         "1.0",
         "EUR",
         "2025-06-13",
         "THB",
         "37.351"
        ],
        [
         "27",
         "1.0",
         "EUR",
         "2025-06-13",
         "TRY",
         "45.397"
        ],
        [
         "28",
         "1.0",
         "EUR",
         "2025-06-13",
         "USD",
         "1.1512"
        ],
        [
         "29",
         "1.0",
         "EUR",
         "2025-06-13",
         "ZAR",
         "20.736"
        ]
       ],
       "shape": {
        "columns": 5,
        "rows": 30
       }
      },
      "text/html": [
       "<div>\n",
       "<style scoped>\n",
       "    .dataframe tbody tr th:only-of-type {\n",
       "        vertical-align: middle;\n",
       "    }\n",
       "\n",
       "    .dataframe tbody tr th {\n",
       "        vertical-align: top;\n",
       "    }\n",
       "\n",
       "    .dataframe thead th {\n",
       "        text-align: right;\n",
       "    }\n",
       "</style>\n",
       "<table border=\"1\" class=\"dataframe\">\n",
       "  <thead>\n",
       "    <tr style=\"text-align: right;\">\n",
       "      <th></th>\n",
       "      <th>amount</th>\n",
       "      <th>base_currency</th>\n",
       "      <th>date</th>\n",
       "      <th>target_currency</th>\n",
       "      <th>rate</th>\n",
       "    </tr>\n",
       "  </thead>\n",
       "  <tbody>\n",
       "    <tr>\n",
       "      <th>0</th>\n",
       "      <td>1.0</td>\n",
       "      <td>EUR</td>\n",
       "      <td>2025-06-13</td>\n",
       "      <td>AUD</td>\n",
       "      <td>1.7777</td>\n",
       "    </tr>\n",
       "    <tr>\n",
       "      <th>1</th>\n",
       "      <td>1.0</td>\n",
       "      <td>EUR</td>\n",
       "      <td>2025-06-13</td>\n",
       "      <td>BGN</td>\n",
       "      <td>1.9558</td>\n",
       "    </tr>\n",
       "    <tr>\n",
       "      <th>2</th>\n",
       "      <td>1.0</td>\n",
       "      <td>EUR</td>\n",
       "      <td>2025-06-13</td>\n",
       "      <td>BRL</td>\n",
       "      <td>6.4007</td>\n",
       "    </tr>\n",
       "    <tr>\n",
       "      <th>3</th>\n",
       "      <td>1.0</td>\n",
       "      <td>EUR</td>\n",
       "      <td>2025-06-13</td>\n",
       "      <td>CAD</td>\n",
       "      <td>1.5690</td>\n",
       "    </tr>\n",
       "    <tr>\n",
       "      <th>4</th>\n",
       "      <td>1.0</td>\n",
       "      <td>EUR</td>\n",
       "      <td>2025-06-13</td>\n",
       "      <td>CHF</td>\n",
       "      <td>0.9359</td>\n",
       "    </tr>\n",
       "    <tr>\n",
       "      <th>5</th>\n",
       "      <td>1.0</td>\n",
       "      <td>EUR</td>\n",
       "      <td>2025-06-13</td>\n",
       "      <td>CNY</td>\n",
       "      <td>8.2682</td>\n",
       "    </tr>\n",
       "    <tr>\n",
       "      <th>6</th>\n",
       "      <td>1.0</td>\n",
       "      <td>EUR</td>\n",
       "      <td>2025-06-13</td>\n",
       "      <td>CZK</td>\n",
       "      <td>24.8310</td>\n",
       "    </tr>\n",
       "    <tr>\n",
       "      <th>7</th>\n",
       "      <td>1.0</td>\n",
       "      <td>EUR</td>\n",
       "      <td>2025-06-13</td>\n",
       "      <td>DKK</td>\n",
       "      <td>7.4586</td>\n",
       "    </tr>\n",
       "    <tr>\n",
       "      <th>8</th>\n",
       "      <td>1.0</td>\n",
       "      <td>EUR</td>\n",
       "      <td>2025-06-13</td>\n",
       "      <td>GBP</td>\n",
       "      <td>0.8505</td>\n",
       "    </tr>\n",
       "    <tr>\n",
       "      <th>9</th>\n",
       "      <td>1.0</td>\n",
       "      <td>EUR</td>\n",
       "      <td>2025-06-13</td>\n",
       "      <td>HKD</td>\n",
       "      <td>9.0362</td>\n",
       "    </tr>\n",
       "    <tr>\n",
       "      <th>10</th>\n",
       "      <td>1.0</td>\n",
       "      <td>EUR</td>\n",
       "      <td>2025-06-13</td>\n",
       "      <td>HUF</td>\n",
       "      <td>403.4300</td>\n",
       "    </tr>\n",
       "    <tr>\n",
       "      <th>11</th>\n",
       "      <td>1.0</td>\n",
       "      <td>EUR</td>\n",
       "      <td>2025-06-13</td>\n",
       "      <td>IDR</td>\n",
       "      <td>18784.0000</td>\n",
       "    </tr>\n",
       "    <tr>\n",
       "      <th>12</th>\n",
       "      <td>1.0</td>\n",
       "      <td>EUR</td>\n",
       "      <td>2025-06-13</td>\n",
       "      <td>ILS</td>\n",
       "      <td>4.1422</td>\n",
       "    </tr>\n",
       "    <tr>\n",
       "      <th>13</th>\n",
       "      <td>1.0</td>\n",
       "      <td>EUR</td>\n",
       "      <td>2025-06-13</td>\n",
       "      <td>INR</td>\n",
       "      <td>99.1100</td>\n",
       "    </tr>\n",
       "    <tr>\n",
       "      <th>14</th>\n",
       "      <td>1.0</td>\n",
       "      <td>EUR</td>\n",
       "      <td>2025-06-13</td>\n",
       "      <td>ISK</td>\n",
       "      <td>144.2000</td>\n",
       "    </tr>\n",
       "    <tr>\n",
       "      <th>15</th>\n",
       "      <td>1.0</td>\n",
       "      <td>EUR</td>\n",
       "      <td>2025-06-13</td>\n",
       "      <td>JPY</td>\n",
       "      <td>165.9400</td>\n",
       "    </tr>\n",
       "    <tr>\n",
       "      <th>16</th>\n",
       "      <td>1.0</td>\n",
       "      <td>EUR</td>\n",
       "      <td>2025-06-13</td>\n",
       "      <td>KRW</td>\n",
       "      <td>1577.4200</td>\n",
       "    </tr>\n",
       "    <tr>\n",
       "      <th>17</th>\n",
       "      <td>1.0</td>\n",
       "      <td>EUR</td>\n",
       "      <td>2025-06-13</td>\n",
       "      <td>MXN</td>\n",
       "      <td>21.8810</td>\n",
       "    </tr>\n",
       "    <tr>\n",
       "      <th>18</th>\n",
       "      <td>1.0</td>\n",
       "      <td>EUR</td>\n",
       "      <td>2025-06-13</td>\n",
       "      <td>MYR</td>\n",
       "      <td>4.8874</td>\n",
       "    </tr>\n",
       "    <tr>\n",
       "      <th>19</th>\n",
       "      <td>1.0</td>\n",
       "      <td>EUR</td>\n",
       "      <td>2025-06-13</td>\n",
       "      <td>NOK</td>\n",
       "      <td>11.4435</td>\n",
       "    </tr>\n",
       "    <tr>\n",
       "      <th>20</th>\n",
       "      <td>1.0</td>\n",
       "      <td>EUR</td>\n",
       "      <td>2025-06-13</td>\n",
       "      <td>NZD</td>\n",
       "      <td>1.9167</td>\n",
       "    </tr>\n",
       "    <tr>\n",
       "      <th>21</th>\n",
       "      <td>1.0</td>\n",
       "      <td>EUR</td>\n",
       "      <td>2025-06-13</td>\n",
       "      <td>PHP</td>\n",
       "      <td>64.7060</td>\n",
       "    </tr>\n",
       "    <tr>\n",
       "      <th>22</th>\n",
       "      <td>1.0</td>\n",
       "      <td>EUR</td>\n",
       "      <td>2025-06-13</td>\n",
       "      <td>PLN</td>\n",
       "      <td>4.2745</td>\n",
       "    </tr>\n",
       "    <tr>\n",
       "      <th>23</th>\n",
       "      <td>1.0</td>\n",
       "      <td>EUR</td>\n",
       "      <td>2025-06-13</td>\n",
       "      <td>RON</td>\n",
       "      <td>5.0330</td>\n",
       "    </tr>\n",
       "    <tr>\n",
       "      <th>24</th>\n",
       "      <td>1.0</td>\n",
       "      <td>EUR</td>\n",
       "      <td>2025-06-13</td>\n",
       "      <td>SEK</td>\n",
       "      <td>10.9635</td>\n",
       "    </tr>\n",
       "    <tr>\n",
       "      <th>25</th>\n",
       "      <td>1.0</td>\n",
       "      <td>EUR</td>\n",
       "      <td>2025-06-13</td>\n",
       "      <td>SGD</td>\n",
       "      <td>1.4777</td>\n",
       "    </tr>\n",
       "    <tr>\n",
       "      <th>26</th>\n",
       "      <td>1.0</td>\n",
       "      <td>EUR</td>\n",
       "      <td>2025-06-13</td>\n",
       "      <td>THB</td>\n",
       "      <td>37.3510</td>\n",
       "    </tr>\n",
       "    <tr>\n",
       "      <th>27</th>\n",
       "      <td>1.0</td>\n",
       "      <td>EUR</td>\n",
       "      <td>2025-06-13</td>\n",
       "      <td>TRY</td>\n",
       "      <td>45.3970</td>\n",
       "    </tr>\n",
       "    <tr>\n",
       "      <th>28</th>\n",
       "      <td>1.0</td>\n",
       "      <td>EUR</td>\n",
       "      <td>2025-06-13</td>\n",
       "      <td>USD</td>\n",
       "      <td>1.1512</td>\n",
       "    </tr>\n",
       "    <tr>\n",
       "      <th>29</th>\n",
       "      <td>1.0</td>\n",
       "      <td>EUR</td>\n",
       "      <td>2025-06-13</td>\n",
       "      <td>ZAR</td>\n",
       "      <td>20.7360</td>\n",
       "    </tr>\n",
       "  </tbody>\n",
       "</table>\n",
       "</div>"
      ],
      "text/plain": [
       "    amount base_currency        date target_currency        rate\n",
       "0      1.0           EUR  2025-06-13             AUD      1.7777\n",
       "1      1.0           EUR  2025-06-13             BGN      1.9558\n",
       "2      1.0           EUR  2025-06-13             BRL      6.4007\n",
       "3      1.0           EUR  2025-06-13             CAD      1.5690\n",
       "4      1.0           EUR  2025-06-13             CHF      0.9359\n",
       "5      1.0           EUR  2025-06-13             CNY      8.2682\n",
       "6      1.0           EUR  2025-06-13             CZK     24.8310\n",
       "7      1.0           EUR  2025-06-13             DKK      7.4586\n",
       "8      1.0           EUR  2025-06-13             GBP      0.8505\n",
       "9      1.0           EUR  2025-06-13             HKD      9.0362\n",
       "10     1.0           EUR  2025-06-13             HUF    403.4300\n",
       "11     1.0           EUR  2025-06-13             IDR  18784.0000\n",
       "12     1.0           EUR  2025-06-13             ILS      4.1422\n",
       "13     1.0           EUR  2025-06-13             INR     99.1100\n",
       "14     1.0           EUR  2025-06-13             ISK    144.2000\n",
       "15     1.0           EUR  2025-06-13             JPY    165.9400\n",
       "16     1.0           EUR  2025-06-13             KRW   1577.4200\n",
       "17     1.0           EUR  2025-06-13             MXN     21.8810\n",
       "18     1.0           EUR  2025-06-13             MYR      4.8874\n",
       "19     1.0           EUR  2025-06-13             NOK     11.4435\n",
       "20     1.0           EUR  2025-06-13             NZD      1.9167\n",
       "21     1.0           EUR  2025-06-13             PHP     64.7060\n",
       "22     1.0           EUR  2025-06-13             PLN      4.2745\n",
       "23     1.0           EUR  2025-06-13             RON      5.0330\n",
       "24     1.0           EUR  2025-06-13             SEK     10.9635\n",
       "25     1.0           EUR  2025-06-13             SGD      1.4777\n",
       "26     1.0           EUR  2025-06-13             THB     37.3510\n",
       "27     1.0           EUR  2025-06-13             TRY     45.3970\n",
       "28     1.0           EUR  2025-06-13             USD      1.1512\n",
       "29     1.0           EUR  2025-06-13             ZAR     20.7360"
      ]
     },
     "execution_count": 154,
     "metadata": {},
     "output_type": "execute_result"
    }
   ],
   "source": [
    "df_final"
   ]
  },
  {
   "cell_type": "code",
   "execution_count": null,
   "id": "0ff62b20",
   "metadata": {},
   "outputs": [],
   "source": []
  }
 ],
 "metadata": {
  "kernelspec": {
   "display_name": "Python 3",
   "language": "python",
   "name": "python3"
  },
  "language_info": {
   "codemirror_mode": {
    "name": "ipython",
    "version": 3
   },
   "file_extension": ".py",
   "mimetype": "text/x-python",
   "name": "python",
   "nbconvert_exporter": "python",
   "pygments_lexer": "ipython3",
   "version": "3.12.8"
  }
 },
 "nbformat": 4,
 "nbformat_minor": 5
}
